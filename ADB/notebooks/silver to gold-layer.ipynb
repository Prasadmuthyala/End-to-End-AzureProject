{
 "cells": [
  {
   "cell_type": "markdown",
   "metadata": {
    "application/vnd.databricks.v1+cell": {
     "cellMetadata": {
      "byteLimit": 2048000,
      "rowLimit": 10000
     },
     "inputWidgets": {},
     "nuid": "7d4492f2-03c1-4904-8e26-81f5385b289b",
     "showTitle": false,
     "tableResultSettingsMap": {},
     "title": ""
    }
   },
   "source": [
    "**load flight and airport**"
   ]
  },
  {
   "cell_type": "code",
   "execution_count": 0,
   "metadata": {
    "application/vnd.databricks.v1+cell": {
     "cellMetadata": {
      "byteLimit": 2048000,
      "rowLimit": 10000
     },
     "inputWidgets": {},
     "nuid": "9c89b487-e1c0-4fc4-b31b-7aab62622c45",
     "showTitle": false,
     "tableResultSettingsMap": {},
     "title": ""
    }
   },
   "outputs": [],
   "source": [
    "%python\n",
    "import datetime\n",
    "\n",
    "current_date = (datetime.datetime.now()).strftime(\"%Y-%m-%d\")\n",
    "flight_df=spark.read.format(\"delta\").option(\"header\", \"true\").option(\"inferSchema\", \"true\").load(f\"/mnt/silverlayer/sampleDatasets/flights2/\")\n",
    "flight_df.display()\n",
    "airport_df=spark.read.format(\"delta\").option(\"header\", \"true\").option(\"inferSchema\", \"true\").load(f\"/mnt/silverlayer/sampleDatasets/airport/{current_date}/\")\n"
   ]
  },
  {
   "cell_type": "markdown",
   "metadata": {
    "application/vnd.databricks.v1+cell": {
     "cellMetadata": {
      "byteLimit": 2048000,
      "rowLimit": 10000
     },
     "inputWidgets": {},
     "nuid": "1768c6db-60c7-4abb-a579-e2af9bbb55a6",
     "showTitle": false,
     "tableResultSettingsMap": {},
     "title": ""
    }
   },
   "source": [
    "**transform data**"
   ]
  },
  {
   "cell_type": "code",
   "execution_count": 0,
   "metadata": {
    "application/vnd.databricks.v1+cell": {
     "cellMetadata": {
      "byteLimit": 2048000,
      "rowLimit": 10000
     },
     "inputWidgets": {},
     "nuid": "1b3b96d3-220c-4172-aa78-274779427bbb",
     "showTitle": false,
     "tableResultSettingsMap": {},
     "title": ""
    }
   },
   "outputs": [],
   "source": [
    "import pyspark.sql.functions as F\n",
    "\n",
    "# Create a new Date column\n",
    "flight_df=flight_df.withColumn(\"Date\", F.to_date(\n",
    "    F.concat(\n",
    "        F.col(\"Year\").cast(\"string\"), \n",
    "        F.lpad(F.col(\"Month\").cast(\"string\"), 2, \"0\"),  # Padding for Month\n",
    "        F.lpad(F.col(\"DayofMonth\").cast(\"string\"), 2, \"0\")  # Padding for DayofMonth\n",
    "    ), \"yyyyMMdd\")\n",
    ")"
   ]
  },
  {
   "cell_type": "code",
   "execution_count": 0,
   "metadata": {
    "application/vnd.databricks.v1+cell": {
     "cellMetadata": {
      "byteLimit": 2048000,
      "implicitDf": true,
      "rowLimit": 10000
     },
     "inputWidgets": {},
     "nuid": "6f0f8113-1b2b-4b7d-83d6-9041ca0648eb",
     "showTitle": false,
     "tableResultSettingsMap": {},
     "title": ""
    }
   },
   "outputs": [],
   "source": [
    "\n",
    "flight_df=flight_df.drop(\"Year\", \"Month\", \"DayofMonth\",\"DayOfWeek\")\n",
    "flight_df2=flight_df.select(\"Date\",\"arrdelay\",\"depdelay\",\"origin\",\"Cancelled\",\"CancellationCode\",\"UniqueCarrier\",\"FlightNum\",\"TailNum\",\"DepTime\")\n",
    "flight_df2.display()\n"
   ]
  },
  {
   "cell_type": "markdown",
   "metadata": {
    "application/vnd.databricks.v1+cell": {
     "cellMetadata": {
      "byteLimit": 2048000,
      "rowLimit": 10000
     },
     "inputWidgets": {},
     "nuid": "77d82bdb-09e3-4dc0-8a4b-3ad174a2d492",
     "showTitle": false,
     "tableResultSettingsMap": {},
     "title": ""
    }
   },
   "source": [
    "**create database and table**"
   ]
  },
  {
   "cell_type": "code",
   "execution_count": 0,
   "metadata": {
    "application/vnd.databricks.v1+cell": {
     "cellMetadata": {
      "byteLimit": 2048000,
      "implicitDf": true,
      "rowLimit": 10000
     },
     "inputWidgets": {},
     "nuid": "dd98d63d-77d6-4fdd-bc72-b479ca8ea51e",
     "showTitle": false,
     "tableResultSettingsMap": {},
     "title": ""
    }
   },
   "outputs": [],
   "source": [
    "%sql\n",
    "create database if not exists `goldlayer-myproject`.goldlayerDB"
   ]
  },
  {
   "cell_type": "code",
   "execution_count": 0,
   "metadata": {
    "application/vnd.databricks.v1+cell": {
     "cellMetadata": {
      "byteLimit": 2048000,
      "implicitDf": true,
      "rowLimit": 10000
     },
     "inputWidgets": {},
     "nuid": "66aea14f-bda2-406c-9954-5c49b01643d6",
     "showTitle": false,
     "tableResultSettingsMap": {},
     "title": ""
    }
   },
   "outputs": [],
   "source": [
    "%sql\n",
    "use `goldlayer-myproject`.goldlayerDB;\n",
    "describe database goldlayerDB"
   ]
  },
  {
   "cell_type": "code",
   "execution_count": 0,
   "metadata": {
    "application/vnd.databricks.v1+cell": {
     "cellMetadata": {
      "byteLimit": 2048000,
      "implicitDf": true,
      "rowLimit": 10000
     },
     "inputWidgets": {},
     "nuid": "b5624694-6d99-4d21-babe-90d9b44c84de",
     "showTitle": false,
     "tableResultSettingsMap": {},
     "title": ""
    }
   },
   "outputs": [],
   "source": [
    "%sql\n",
    "CREATE TABLE IF NOT EXISTS goldlayerDB.DIM_Flight (\n",
    "    Date date,\n",
    "    arrdelay INTEGER,\n",
    "    depdelay INTEGER,\n",
    "    origin STRING,\n",
    "    Cancelled INTEGER,\n",
    "    CancellationCode STRING,\n",
    "    UniqueCarrier STRING,\n",
    "    FlightNum INTEGER,\n",
    "    TailNum STRING,\n",
    "    DepTime STRING\n",
    ") \n",
    "USING DELTA\n",
    "PARTITIONED BY (YEAR(Date));\n"
   ]
  },
  {
   "cell_type": "markdown",
   "metadata": {
    "application/vnd.databricks.v1+cell": {
     "cellMetadata": {
      "byteLimit": 2048000,
      "rowLimit": 10000
     },
     "inputWidgets": {},
     "nuid": "f19466a6-0f1f-49eb-b8d9-67f550744c6e",
     "showTitle": false,
     "tableResultSettingsMap": {},
     "title": ""
    }
   },
   "source": [
    "**create temp view for dataframe** "
   ]
  },
  {
   "cell_type": "code",
   "execution_count": 0,
   "metadata": {
    "application/vnd.databricks.v1+cell": {
     "cellMetadata": {
      "byteLimit": 2048000,
      "implicitDf": true,
      "rowLimit": 10000
     },
     "inputWidgets": {},
     "nuid": "c418ad41-8717-47a0-a4a0-365398565474",
     "showTitle": false,
     "tableResultSettingsMap": {},
     "title": ""
    }
   },
   "outputs": [],
   "source": [
    "%python\n",
    "flight_df2.createOrReplaceTempView(\"flight_temp_view\")"
   ]
  },
  {
   "cell_type": "markdown",
   "metadata": {
    "application/vnd.databricks.v1+cell": {
     "cellMetadata": {
      "byteLimit": 2048000,
      "rowLimit": 10000
     },
     "inputWidgets": {},
     "nuid": "eba28ffc-8516-4329-9f4b-2eb8bba254aa",
     "showTitle": false,
     "tableResultSettingsMap": {},
     "title": ""
    }
   },
   "source": [
    "**avoid duplicate data and load to azure storage**"
   ]
  },
  {
   "cell_type": "code",
   "execution_count": 0,
   "metadata": {
    "application/vnd.databricks.v1+cell": {
     "cellMetadata": {
      "byteLimit": 2048000,
      "implicitDf": true,
      "rowLimit": 10000
     },
     "inputWidgets": {},
     "nuid": "742e7ff0-7a94-4d2c-ab59-c90863cfe56a",
     "showTitle": false,
     "tableResultSettingsMap": {},
     "title": ""
    }
   },
   "outputs": [],
   "source": [
    "%sql\n",
    "MERGE INTO goldlayerDB.DIM_Flight AS target\n",
    "USING flight_temp_view AS source\n",
    "ON target.Date = source.Date\n",
    "   AND target.FlightNum = source.FlightNum\n",
    "   AND target.UniqueCarrier = source.UniqueCarrier\n",
    "WHEN NOT MATCHED THEN\n",
    "   INSERT (Date, arrdelay, depdelay, origin, Cancelled, CancellationCode, UniqueCarrier, FlightNum, TailNum, DepTime)\n",
    "   VALUES (source.Date, TRY_CAST(source.arrdelay AS INT), TRY_CAST(source.depdelay AS INT), source.origin,\n",
    "           TRY_CAST(source.Cancelled AS INT), source.CancellationCode, source.UniqueCarrier, source.FlightNum,\n",
    "           source.TailNum, source.DepTime);\n"
   ]
  },
  {
   "cell_type": "code",
   "execution_count": 0,
   "metadata": {
    "application/vnd.databricks.v1+cell": {
     "cellMetadata": {
      "byteLimit": 2048000,
      "implicitDf": true,
      "rowLimit": 10000
     },
     "inputWidgets": {},
     "nuid": "446751d8-319f-4726-905d-293f53313125",
     "showTitle": false,
     "tableResultSettingsMap": {},
     "title": ""
    }
   },
   "outputs": [],
   "source": [
    "\n",
    "# Read data from Unity Catalog table and write to ADLS Gen 2\n",
    "spark.read.table(\"goldlayerDB.DIM_Flight\").write.format(\"delta\").mode(\"overwrite\").save(f\"/mnt/goldlayer/sampleDatasets/flights2/\")"
   ]
  },
  {
   "cell_type": "markdown",
   "metadata": {
    "application/vnd.databricks.v1+cell": {
     "cellMetadata": {
      "byteLimit": 2048000,
      "rowLimit": 10000
     },
     "inputWidgets": {},
     "nuid": "828c1461-732e-4806-bfed-340413456afa",
     "showTitle": false,
     "tableResultSettingsMap": {},
     "title": ""
    }
   },
   "source": [
    "### airport data"
   ]
  },
  {
   "cell_type": "code",
   "execution_count": 0,
   "metadata": {
    "application/vnd.databricks.v1+cell": {
     "cellMetadata": {
      "byteLimit": 2048000,
      "implicitDf": true,
      "rowLimit": 10000
     },
     "inputWidgets": {},
     "nuid": "19cbfa7b-928f-4394-b485-bbb79fbeaa36",
     "showTitle": false,
     "tableResultSettingsMap": {},
     "title": ""
    }
   },
   "outputs": [],
   "source": [
    "%sql\n",
    "CREATE TABLE IF NOT EXISTS goldlayerDB.DIM_Airport (\n",
    "    code STRING,\n",
    "    description  STRING,\n",
    "    city STRING,\n",
    "    state STRING,\n",
    "    airport_name STRING\n",
    ") \n",
    "USING DELTA\n",
    "PARTITIONED BY (City);\n"
   ]
  },
  {
   "cell_type": "code",
   "execution_count": 0,
   "metadata": {
    "application/vnd.databricks.v1+cell": {
     "cellMetadata": {
      "byteLimit": 2048000,
      "rowLimit": 10000
     },
     "inputWidgets": {},
     "nuid": "2385a84f-e48c-4164-afc9-8ef905fb1840",
     "showTitle": false,
     "tableResultSettingsMap": {},
     "title": ""
    }
   },
   "outputs": [],
   "source": [
    "airport_df.createOrReplaceTempView(\"airport_temp_view\")"
   ]
  },
  {
   "cell_type": "code",
   "execution_count": 0,
   "metadata": {
    "application/vnd.databricks.v1+cell": {
     "cellMetadata": {
      "byteLimit": 2048000,
      "implicitDf": true,
      "rowLimit": 10000
     },
     "inputWidgets": {},
     "nuid": "782e3d37-990f-43b0-ab3b-87cad32f36df",
     "showTitle": false,
     "tableResultSettingsMap": {},
     "title": ""
    }
   },
   "outputs": [],
   "source": [
    "%sql\n",
    "merge into goldlayerDB.DIM_Airport as target\n",
    "using airport_temp_view as source\n",
    "on target.code = source.Code and\n",
    "    target.airport_name = source.name and \n",
    "    target.city = source.City\n",
    "when not matched then insert (code, description, city, state, airport_name) values (source.Code, source.Description, source.City, source.State, source.name);\n"
   ]
  },
  {
   "cell_type": "code",
   "execution_count": 0,
   "metadata": {
    "application/vnd.databricks.v1+cell": {
     "cellMetadata": {
      "byteLimit": 2048000,
      "rowLimit": 10000
     },
     "inputWidgets": {},
     "nuid": "217120f3-978c-4a2f-b9c5-ce4bb3287e48",
     "showTitle": false,
     "tableResultSettingsMap": {},
     "title": ""
    }
   },
   "outputs": [],
   "source": [
    "# Read data from Unity Catalog table and write to ADLS Gen 2\n",
    "spark.read.table(\"goldlayerDB.DIM_Airport\").write.format(\"delta\").mode(\"overwrite\").save(f\"/mnt/goldlayer/sampleDatasets/airport/\")"
   ]
  },
  {
   "cell_type": "code",
   "execution_count": 0,
   "metadata": {
    "application/vnd.databricks.v1+cell": {
     "cellMetadata": {
      "byteLimit": 2048000,
      "implicitDf": true,
      "rowLimit": 10000
     },
     "inputWidgets": {},
     "nuid": "1cb67bb8-3d3a-4898-a0e1-897f7d9ce672",
     "showTitle": false,
     "tableResultSettingsMap": {},
     "title": ""
    }
   },
   "outputs": [],
   "source": [
    "%sql\n",
    "SHOW EXTERNAL LOCATIONS;\n",
    "\n",
    "\n"
   ]
  },
  {
   "cell_type": "code",
   "execution_count": 0,
   "metadata": {
    "application/vnd.databricks.v1+cell": {
     "cellMetadata": {
      "byteLimit": 2048000,
      "implicitDf": true,
      "rowLimit": 10000
     },
     "inputWidgets": {},
     "nuid": "02c32656-95c6-4521-ae3b-719dc0b4bca3",
     "showTitle": false,
     "tableResultSettingsMap": {},
     "title": ""
    }
   },
   "outputs": [],
   "source": [
    "%sql\n",
    "-- select * from `goldlayer-myproject`.goldlayerDB.dim_airport limit 10;\n",
    "show tables in `goldlayerDB`.`dim_airport`;\n"
   ]
  }
 ],
 "metadata": {
  "application/vnd.databricks.v1+notebook": {
   "computePreferences": null,
   "dashboards": [],
   "environmentMetadata": {
    "base_environment": "",
    "client": "1"
   },
   "language": "python",
   "notebookMetadata": {
    "mostRecentlyExecutedCommandWithImplicitDF": {
     "commandId": 6243422744268378,
     "dataframes": [
      "_sqldf"
     ]
    },
    "pythonIndentUnit": 4
   },
   "notebookName": "silver to gold-layer",
   "widgets": {}
  },
  "language_info": {
   "name": "python"
  }
 },
 "nbformat": 4,
 "nbformat_minor": 0
}