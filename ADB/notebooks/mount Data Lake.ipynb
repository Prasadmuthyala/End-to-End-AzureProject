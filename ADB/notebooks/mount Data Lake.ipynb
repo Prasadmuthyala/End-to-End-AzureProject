{
 "cells": [
  {
   "cell_type": "markdown",
   "metadata": {
    "application/vnd.databricks.v1+cell": {
     "cellMetadata": {},
     "inputWidgets": {},
     "nuid": "ab135f3a-1fc4-4930-be09-e83c313f0b14",
     "showTitle": false,
     "tableResultSettingsMap": {},
     "title": ""
    }
   },
   "source": [
    "#mount Data Lake"
   ]
  },
  {
   "cell_type": "code",
   "execution_count": 0,
   "metadata": {
    "application/vnd.databricks.v1+cell": {
     "cellMetadata": {
      "byteLimit": 2048000,
      "rowLimit": 10000
     },
     "inputWidgets": {},
     "nuid": "2289aeef-71a1-4eeb-b227-63764cebf141",
     "showTitle": false,
     "tableResultSettingsMap": {},
     "title": ""
    }
   },
   "outputs": [],
   "source": [
    "# # Retrieve secrets from Databricks secret scope linked to Azure Key Vault\n",
    "# client_id = dbutils.secrets.get(scope=\"viswa-ADB-secret123\", key=\"ClientID\")\n",
    "# client_secret = dbutils.secrets.get(scope=\"viswa-ADB-secret123\", key=\"ClientSecret\")\n",
    "# tenant_id = dbutils.secrets.get(scope=\"viswa-ADB-secret123\", key=\"TenantID\")\n",
    "# display(client_id, client_secret, tenant_id)\n"
   ]
  },
  {
   "cell_type": "code",
   "execution_count": 0,
   "metadata": {
    "application/vnd.databricks.v1+cell": {
     "cellMetadata": {
      "byteLimit": 2048000,
      "rowLimit": 10000
     },
     "inputWidgets": {},
     "nuid": "c4743358-2c34-4cf0-9f4b-1055883df643",
     "showTitle": false,
     "tableResultSettingsMap": {},
     "title": ""
    }
   },
   "outputs": [],
   "source": [
    "# # Set Spark configuration for authentication using the Service Principal\n",
    "# spark.conf.set(\"spark.databricks.cloud.azure.client.id\", client_id)\n",
    "# spark.conf.set(\"spark.databricks.cloud.azure.client.secret\", client_secret)\n",
    "# spark.conf.set(\"spark.databricks.cloud.azure.tenant.id\", tenant_id)"
   ]
  },
  {
   "cell_type": "code",
   "execution_count": 0,
   "metadata": {
    "application/vnd.databricks.v1+cell": {
     "cellMetadata": {
      "byteLimit": 2048000,
      "rowLimit": 10000
     },
     "inputWidgets": {},
     "nuid": "bc666eaa-7f61-464e-8287-740f6cb6b11f",
     "showTitle": false,
     "tableResultSettingsMap": {},
     "title": ""
    }
   },
   "outputs": [],
   "source": [
    "\n",
    "# Define the configurations for mounting\n",
    "config = {\n",
    "    \"fs.azure.account.auth.type\": \"OAuth\",\n",
    "    \"fs.azure.account.oauth.provider.type\": \"org.apache.hadoop.fs.azurebfs.oauth2.ClientCredsTokenProvider\",\n",
    "    \"fs.azure.account.oauth2.client.id\": dbutils.secrets.get(scope=\"viswa-ADB-secret123\", key=\"ClientID\"),\n",
    "    \"fs.azure.account.oauth2.client.secret\": dbutils.secrets.get(scope=\"viswa-ADB-secret123\", key=\"ClientSecret\"),\n",
    "    \"fs.azure.account.oauth2.client.endpoint\": f\"https://login.microsoftonline.com/{dbutils.secrets.get(scope='viswa-ADB-secret123', key='TenantID')}/oauth2/v2.0/token\"\n",
    "}\n",
    "dbutils.fs.mount(\n",
    "    source = \"abfss://bronzelayer@myazuresa.dfs.core.windows.net/\",\n",
    "    mount_point = \"/mnt/bronzelayer\",\n",
    "    extra_configs = config\n",
    ")\n",
    "\n",
    "dbutils.fs.mount(\n",
    "\n",
    "    source = \"abfss://silverlayer@myazuresa.dfs.core.windows.net/\",\n",
    "    mount_point = \"/mnt/silverlayer\",\n",
    "    extra_configs = config\n",
    ")\n",
    "\n",
    "dbutils.fs.mount(\n",
    "    source = \"abfss://goldlayer@myazuresa.dfs.core.windows.net/\",\n",
    "    mount_point = \"/mnt/goldlayer\",\n",
    "    extra_configs = config\n",
    ")\n"
   ]
  },
  {
   "cell_type": "code",
   "execution_count": 0,
   "metadata": {
    "application/vnd.databricks.v1+cell": {
     "cellMetadata": {
      "byteLimit": 2048000,
      "rowLimit": 10000
     },
     "inputWidgets": {},
     "nuid": "c988860a-e610-4a93-b75a-abfa48827d26",
     "showTitle": false,
     "tableResultSettingsMap": {},
     "title": ""
    }
   },
   "outputs": [],
   "source": [
    "dbutils.fs.ls(\"/mnt/bronzelayer/sampleDatasets/plane\")"
   ]
  }
 ],
 "metadata": {
  "application/vnd.databricks.v1+notebook": {
   "computePreferences": {
    "hardware": {
     "accelerator": null,
     "gpuPoolId": null,
     "memory": null
    }
   },
   "dashboards": [],
   "environmentMetadata": {
    "base_environment": "",
    "client": "1"
   },
   "language": "python",
   "notebookMetadata": {
    "pythonIndentUnit": 4
   },
   "notebookName": "mount Data Lake",
   "widgets": {}
  },
  "language_info": {
   "name": "python"
  }
 },
 "nbformat": 4,
 "nbformat_minor": 0
}
