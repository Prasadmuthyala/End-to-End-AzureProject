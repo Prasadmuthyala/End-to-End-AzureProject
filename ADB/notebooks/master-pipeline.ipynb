{
 "cells": [
  {
   "cell_type": "code",
   "execution_count": 0,
   "metadata": {
    "application/vnd.databricks.v1+cell": {
     "cellMetadata": {
      "byteLimit": 2048000,
      "rowLimit": 10000
     },
     "inputWidgets": {},
     "nuid": "bf6e52e7-7531-4fe6-9cfa-f87a6f6889e7",
     "showTitle": false,
     "tableResultSettingsMap": {},
     "title": ""
    }
   },
   "outputs": [],
   "source": [
    "# Create text widget\n",
    "dbutils.widgets.text(\"layer_path\",\"\")\n",
    "Layer_Name = dbutils.widgets.get(\"layer_path\")\n"
   ]
  },
  {
   "cell_type": "code",
   "execution_count": 0,
   "metadata": {
    "application/vnd.databricks.v1+cell": {
     "cellMetadata": {
      "byteLimit": 2048000,
      "rowLimit": 10000
     },
     "inputWidgets": {},
     "nuid": "65b4c436-430b-4f36-8562-bd169dc990a8",
     "showTitle": false,
     "tableResultSettingsMap": {},
     "title": ""
    }
   },
   "outputs": [],
   "source": [
    "Notebook_Path_Json={\n",
    "    \"Raw_to_silver\":[\"/Workspace/myProject/Jobs/Bronze To Silver-Layer\"],\n",
    "    \"Silver_to_gold\":[\"/Workspace/myProject/Jobs/silver to gold-layer\"]\n",
    "}"
   ]
  },
  {
   "cell_type": "code",
   "execution_count": 0,
   "metadata": {
    "application/vnd.databricks.v1+cell": {
     "cellMetadata": {
      "byteLimit": 2048000,
      "rowLimit": 10000
     },
     "inputWidgets": {},
     "nuid": "e3326677-12d4-40db-a9c5-d2b706d100e3",
     "showTitle": false,
     "tableResultSettingsMap": {},
     "title": ""
    }
   },
   "outputs": [
    {
     "output_type": "stream",
     "name": "stdout",
     "output_type": "stream",
     "text": [
      "[['/Workspace/myProject/Jobs/Bronze To Silver-Layer']]\n"
     ]
    }
   ],
   "source": [
    "print(Notebook_Path_Json[Layer_Name])"
   ]
  },
  {
   "cell_type": "code",
   "execution_count": 0,
   "metadata": {
    "application/vnd.databricks.v1+cell": {
     "cellMetadata": {},
     "inputWidgets": {},
     "nuid": "d62e5ea2-b302-41fa-aad8-8ae64e1a4727",
     "showTitle": false,
     "tableResultSettingsMap": {},
     "title": ""
    }
   },
   "outputs": [],
   "source": [
    "for notebook_path in Notebook_Path_Json[Layer_Name]:\n",
    "    dbutils.notebook.run(notebook_path, 0)"
   ]
  }
 ],
 "metadata": {
  "application/vnd.databricks.v1+notebook": {
   "computePreferences": null,
   "dashboards": [],
   "environmentMetadata": {
    "base_environment": "",
    "client": "1"
   },
   "language": "python",
   "notebookMetadata": {
    "pythonIndentUnit": 4
   },
   "notebookName": "master-pipeline",
   "widgets": {
    "layer_path": {
     "currentValue": "Raw_to_silver",
     "nuid": "48596af8-3898-4d4f-9a64-a509a5174cc4",
     "typedWidgetInfo": {
      "autoCreated": false,
      "defaultValue": "",
      "label": null,
      "name": "layer_path",
      "options": {
       "widgetDisplayType": "Text",
       "validationRegex": null
      },
      "parameterDataType": "String"
     },
     "widgetInfo": {
      "widgetType": "text",
      "defaultValue": "",
      "label": null,
      "name": "layer_path",
      "options": {
       "widgetType": "text",
       "autoCreated": null,
       "validationRegex": null
      }
     }
    }
   }
  },
  "language_info": {
   "name": "python"
  }
 },
 "nbformat": 4,
 "nbformat_minor": 0
}